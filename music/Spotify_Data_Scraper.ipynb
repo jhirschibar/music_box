{
 "cells": [
  {
   "cell_type": "markdown",
   "metadata": {},
   "source": [
    "# Pulling Spotify Data"
   ]
  },
  {
   "cell_type": "markdown",
   "metadata": {},
   "source": [
    "Import libraries"
   ]
  },
  {
   "cell_type": "code",
   "execution_count": null,
   "metadata": {
    "ExecuteTime": {
     "end_time": "2020-10-13T07:29:10.199876Z",
     "start_time": "2020-10-13T07:29:10.191282Z"
    }
   },
   "outputs": [],
   "source": [
    "import spotipy\n",
    "from spotipy.oauth2 import SpotifyOAuth\n",
    "import psycopg2\n",
    "import pandas as pd\n",
    "import sqlalchemy as sql\n",
    "from requests.exceptions import HTTPError"
   ]
  },
  {
   "cell_type": "markdown",
   "metadata": {},
   "source": [
    "Create a database called \"spotify\" in postgres, then enter postgres database credentials"
   ]
  },
  {
   "cell_type": "code",
   "execution_count": null,
   "metadata": {},
   "outputs": [],
   "source": [
    "password=\"enter_password\"\n",
    "db_name=\"spotify\""
   ]
  },
  {
   "cell_type": "markdown",
   "metadata": {},
   "source": [
    "Create engine to interact with postgres database"
   ]
  },
  {
   "cell_type": "code",
   "execution_count": null,
   "metadata": {},
   "outputs": [],
   "source": [
    "engine = sql.create_engine('postgresql+psycopg2://postgres:'+password+'localhost:5432/'+db_name)"
   ]
  },
  {
   "cell_type": "markdown",
   "metadata": {},
   "source": [
    "Create \"spotify_songs\" table"
   ]
  },
  {
   "cell_type": "code",
   "execution_count": null,
   "metadata": {},
   "outputs": [],
   "source": [
    "query='''\n",
    "\n",
    "CREATE TABLE spotify_songs(\n",
    "\n",
    "track_id TEXT,\n",
    "artist TEXT,\n",
    "song_name TEXT,\n",
    "popularity REAL,\n",
    "album TEXT,\n",
    "isrc TEXT,\n",
    "danceability REAL,\n",
    "energy REAL,\n",
    "key REAL,\n",
    "loudness REAL,\n",
    "mode REAL,\n",
    "speechiness REAL,\n",
    "acousticness REAL,\n",
    "instrumentalness REAL,\n",
    "liveness REAL,\n",
    "valence REAL,\n",
    "tempo REAL,\n",
    "type TEXT,\n",
    "id TEXT,\n",
    "uri TEXT,\n",
    "track_href TEXT,\n",
    "analysis_url TEXT,\n",
    "duration_ms TEXT,\n",
    "time_signature TEXT\n",
    ")\n",
    "\n",
    "'''\n",
    "\n",
    "engine.exectute(query)"
   ]
  },
  {
   "cell_type": "markdown",
   "metadata": {},
   "source": [
    "Create connection to Spotify API\n",
    "\n",
    "- Log in to your Spotify account at: https://developer.spotify.com/dashboard/login\n",
    "- Create an app\n",
    "- After creating app you will receive a Client ID and Client Secret\n",
    "- You need to either set an environmental variable SPOTIFY_CLIENT_ID and SPOTIFY_CLIENT_SECRET, or feed them as parameters into SpotifyOAUTH (parameters being client_id and client_secret)\n",
    "- Within your Spotify developer dashboard go to your app and provide a redirect uri. This must match the redirect_uri that is a parameter of SpotifyOAUTH\n",
    "- You also have to provide a scope. Read more about scopes here: https://developer.spotify.com/documentation/general/guides/scopes/"
   ]
  },
  {
   "cell_type": "code",
   "execution_count": null,
   "metadata": {
    "ExecuteTime": {
     "end_time": "2020-10-12T23:28:50.291293Z",
     "start_time": "2020-10-12T23:28:50.056580Z"
    }
   },
   "outputs": [],
   "source": [
    "scope = \"user-library-read\"\n",
    "redirect_uri = 'http://localhost:8080'\n",
    "sp = spotipy.Spotify(auth_manager=SpotifyOAuth(redirect_uri=redirect_uri,scope=scope))"
   ]
  },
  {
   "cell_type": "markdown",
   "metadata": {},
   "source": [
    "The below are functions used to pull the song data and push it to Postgres. The methodology here is to get all of Spotify;s major categories, find all playlists from those categories and then get all song and info from those playlists. Turn it into a dataframe and push it to Postgres."
   ]
  },
  {
   "cell_type": "code",
   "execution_count": null,
   "metadata": {},
   "outputs": [],
   "source": [
    "#Get all Spotify categories\n",
    "def get_categories(sp):\n",
    "    all_categories=[]\n",
    "    for i in sp.categories()['categories']['items']:\n",
    "        all_categories.append(i['id'])\n",
    "    return all_categories\n",
    "\n",
    "#Given a list of categories, find the playlists within that category\n",
    "def get_playlists(sp, all_categories):\n",
    "    playlist=[]\n",
    "\n",
    "    for cat in all_categories:\n",
    "        try:\n",
    "            for i in sp.category_playlists(category_id=cat)['playlists']['items']:\n",
    "                playlist.append(i['id'])\n",
    "        except:\n",
    "            continue\n",
    "    return playlist\n",
    "\n",
    "#Given a list of playlists, find all songs for each playlist and extract info about those songs. \n",
    "#Provide a list of column names and return a dataframe of the data\n",
    "def get_song_info(sp,playlist,columns):\n",
    "    song_info =[]\n",
    "    for index,play in enumerate(playlist):\n",
    "        print(\"Working on Song:\",index)\n",
    "        try:\n",
    "            for i in sp.playlist(playlist_id=play)['tracks']['items']:\n",
    "                all_feat = []\n",
    "                track_id=i['track']['id']\n",
    "                all_feat.append(track_id)\n",
    "                audio_feat = sp.audio_features(track_id)\n",
    "                artist = i['track']['album']['artists'][0]['name']\n",
    "                all_feat.append(artist)\n",
    "                song_name = i['track']['name']\n",
    "                all_feat.append(song_name)\n",
    "                popularity = i['track']['popularity']\n",
    "                all_feat.append(popularity)\n",
    "                album = i['track']['album']['name']\n",
    "                all_feat.append(album)\n",
    "                isrc = i['track']['external_ids']['isrc']\n",
    "                all_feat.append(isrc)\n",
    "                for i,val in audio_feat[0].items():\n",
    "                    all_feat.append(val)\n",
    "                song_info.append(all_feat)\n",
    "        except:\n",
    "            continue        \n",
    "    df=pd.DataFrame(song_info,columns=columns)\n",
    "    return df\n",
    "\n",
    "#Push dataframe to your Postgres Database\n",
    "def push_to_db(df):\n",
    "    df.to_sql('spotify_songs', engine, schema='public', if_exists='append', index=False)\n",
    "    return"
   ]
  },
  {
   "cell_type": "markdown",
   "metadata": {},
   "source": [
    "Set column values for dataframe (same as values used to create spotify_songs table):"
   ]
  },
  {
   "cell_type": "code",
   "execution_count": null,
   "metadata": {},
   "outputs": [],
   "source": [
    "columns = ['track_id','artist','song_name','popularity','album','isrc','danceability',\n",
    "'energy',\n",
    "'key',\n",
    "'loudness',\n",
    "'mode',\n",
    "'speechiness',\n",
    "'acousticness',\n",
    "'instrumentalness',\n",
    "'liveness',\n",
    "'valence',\n",
    "'tempo',\n",
    "'type',\n",
    "'id',\n",
    "'uri',\n",
    "'track_href',\n",
    "'analysis_url',\n",
    "'duration_ms',\n",
    "'time_signature']"
   ]
  },
  {
   "cell_type": "markdown",
   "metadata": {},
   "source": [
    "Pull the songs and push the dataframe to Postgres:"
   ]
  },
  {
   "cell_type": "code",
   "execution_count": null,
   "metadata": {},
   "outputs": [],
   "source": [
    "categories=get_categories(sp)\n",
    "playlists=get_playlists(sp,categories)\n",
    "df=get_song_info(sp,playlists,columns)\n",
    "df=df.dropDuplicates()\n",
    "push_to_db(df)"
   ]
  }
 ],
 "metadata": {
  "kernelspec": {
   "display_name": "Python 3",
   "language": "python",
   "name": "python3"
  },
  "language_info": {
   "codemirror_mode": {
    "name": "ipython",
    "version": 3
   },
   "file_extension": ".py",
   "mimetype": "text/x-python",
   "name": "python",
   "nbconvert_exporter": "python",
   "pygments_lexer": "ipython3",
   "version": "3.7.7"
  }
 },
 "nbformat": 4,
 "nbformat_minor": 4
}
